{
  "nbformat": 4,
  "nbformat_minor": 0,
  "metadata": {
    "colab": {
      "provenance": [],
      "authorship_tag": "ABX9TyNbEbHJ6k57TMf1LsRwtQnC",
      "include_colab_link": true
    },
    "kernelspec": {
      "name": "python3",
      "display_name": "Python 3"
    },
    "language_info": {
      "name": "python"
    }
  },
  "cells": [
    {
      "cell_type": "markdown",
      "metadata": {
        "id": "view-in-github",
        "colab_type": "text"
      },
      "source": [
        "<a href=\"https://colab.research.google.com/github/Lepati/Bootcamp-Data-Science/blob/main/lm25080018892_task_2_hello_world.ipynb\" target=\"_parent\"><img src=\"https://colab.research.google.com/assets/colab-badge.svg\" alt=\"Open In Colab\"/></a>"
      ]
    },
    {
      "cell_type": "code",
      "execution_count": null,
      "metadata": {
        "colab": {
          "base_uri": "https://localhost:8080/"
        },
        "id": "_cLijL5gCZEu",
        "outputId": "180721bb-d7e9-41ae-e418-d34a7baf4d9b"
      },
      "outputs": [
        {
          "output_type": "stream",
          "name": "stdout",
          "text": [
            "Hello World\n"
          ]
        }
      ],
      "source": [
        "print(\"Hello World\")"
      ]
    },
    {
      "cell_type": "code",
      "source": [
        "user_input = input(\"Please enter your name :\")\n",
        "print('Hello! '+ user_input)\n",
        "user_input = input(\"How old are you? :\")\n",
        "print('You are '+ user_input + ' years old')\n",
        "user_input = input(\"What is your favorite color? :\")\n",
        "print('Your favorite color is '+ user_input)\n",
        "user_input = input(\"What is your favorite food? :\")\n",
        "print('Your favorite food is '+ user_input)\n",
        "user_input = input(\"What is your favorite animal? :\")\n",
        "print('Your favorite animal is '+ user_input)"
      ],
      "metadata": {
        "colab": {
          "base_uri": "https://localhost:8080/"
        },
        "id": "Sqg_QuwEGBCp",
        "outputId": "471d9ab1-8818-42d5-f227-a675b6dbdec8"
      },
      "execution_count": null,
      "outputs": [
        {
          "output_type": "stream",
          "name": "stdout",
          "text": [
            "Please enter your name :Lepati Macaphasa\n",
            "Hello! Lepati Macaphasa\n",
            "How old are you? :43\n",
            "You are 43 years old\n",
            "What is your favorite color? :Blue\n",
            "Your favorite color is Blue\n",
            "What is your favorite food? :Pap and chicken\n",
            "Your favorite food is Pap and chicken\n",
            "What is your favorite animal? :dog\n",
            "Your favorite animal is dog\n"
          ]
        }
      ]
    }
  ]
}