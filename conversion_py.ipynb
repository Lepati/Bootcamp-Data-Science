{
  "nbformat": 4,
  "nbformat_minor": 0,
  "metadata": {
    "colab": {
      "provenance": [],
      "authorship_tag": "ABX9TyNjt+vj5An27h1QyEl5nD9R",
      "include_colab_link": true
    },
    "kernelspec": {
      "name": "python3",
      "display_name": "Python 3"
    },
    "language_info": {
      "name": "python"
    }
  },
  "cells": [
    {
      "cell_type": "markdown",
      "metadata": {
        "id": "view-in-github",
        "colab_type": "text"
      },
      "source": [
        "<a href=\"https://colab.research.google.com/github/Lepati/Bootcamp-Data-Science/blob/main/conversion_py.ipynb\" target=\"_parent\"><img src=\"https://colab.research.google.com/assets/colab-badge.svg\" alt=\"Open In Colab\"/></a>"
      ]
    },
    {
      "cell_type": "code",
      "execution_count": 9,
      "metadata": {
        "id": "hP7vcnyfrvck"
      },
      "outputs": [],
      "source": [
        "#Assigning a string \"10\" to variable mystery_1\n",
        "mystery_1 = \"10\"\n",
        "#Assigning a floating-point number 10.6 to the variable mystery_2\n",
        "mystery_2 = 10.2\n",
        "#Assigning a string \"ten\" to the variable mystery_3\n",
        "mystery_3 = \"ten\"\n",
        "#Assigning the Boolean value True to the variable mystery_4\n",
        "mystery_4 = True\n",
        "# Use the print() and type() function to check the data type"
      ]
    },
    {
      "cell_type": "code",
      "source": [
        "# Using str() to convert an Integer to string\n",
        "num_int = 10\n",
        "print(num_int)\n",
        "num_str = str(num_int)\n",
        "print(num_str)"
      ],
      "metadata": {
        "id": "XZRbtn004Bc2",
        "colab": {
          "base_uri": "https://localhost:8080/"
        },
        "outputId": "03be1112-e9b3-41a7-9d90-f54d96a1cd93"
      },
      "execution_count": 15,
      "outputs": [
        {
          "output_type": "stream",
          "name": "stdout",
          "text": [
            "10\n",
            "10\n"
          ]
        }
      ]
    },
    {
      "cell_type": "code",
      "source": [
        "# Using int()to convert a Float to an Integer\n",
        "num_float = 99.99\n",
        "num_int = int(num_float)\n",
        "print(num_float)\n",
        "print(num_int)"
      ],
      "metadata": {
        "colab": {
          "base_uri": "https://localhost:8080/"
        },
        "id": "6Ifr-XF31z_l",
        "outputId": "92856dd7-a59d-4838-deb7-ca7925a8c2f0"
      },
      "execution_count": 11,
      "outputs": [
        {
          "output_type": "stream",
          "name": "stdout",
          "text": [
            "99.99\n",
            "99\n"
          ]
        }
      ]
    },
    {
      "cell_type": "code",
      "source": [
        "num1 = 99.23\n",
        "num2 = 23\n",
        "num3 = 150\n",
        "string1 = \"100\""
      ],
      "metadata": {
        "id": "OqrO6VzE27yz"
      },
      "execution_count": 12,
      "outputs": []
    },
    {
      "cell_type": "code",
      "source": [
        "num1_int = 99.23\n",
        "num2_float = 23\n",
        "num3_str = str(150)\n",
        "string1_int = int(\"100\")"
      ],
      "metadata": {
        "id": "nVfvwARh3haj"
      },
      "execution_count": 13,
      "outputs": []
    },
    {
      "cell_type": "code",
      "source": [
        "print(num1_int)\n",
        "print(num2_float)\n",
        "print(num3_str)\n",
        "print(string1_int)"
      ],
      "metadata": {
        "colab": {
          "base_uri": "https://localhost:8080/"
        },
        "id": "PWKF1_oH4uvm",
        "outputId": "cef369e0-f48f-47f4-e211-cda7beded74a"
      },
      "execution_count": 14,
      "outputs": [
        {
          "output_type": "stream",
          "name": "stdout",
          "text": [
            "99.23\n",
            "23\n",
            "150\n",
            "100\n"
          ]
        }
      ]
    }
  ]
}