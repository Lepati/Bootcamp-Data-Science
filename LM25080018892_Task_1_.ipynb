{
  "nbformat": 4,
  "nbformat_minor": 0,
  "metadata": {
    "colab": {
      "provenance": [],
      "authorship_tag": "ABX9TyMIaFv9m9UoJTRWoaOU8nqo",
      "include_colab_link": true
    },
    "kernelspec": {
      "name": "python3",
      "display_name": "Python 3"
    },
    "language_info": {
      "name": "python"
    }
  },
  "cells": [
    {
      "cell_type": "markdown",
      "metadata": {
        "id": "view-in-github",
        "colab_type": "text"
      },
      "source": [
        "<a href=\"https://colab.research.google.com/github/Lepati/Bootcamp-Data-Science/blob/main/LM25080018892_Task_1_.ipynb\" target=\"_parent\"><img src=\"https://colab.research.google.com/assets/colab-badge.svg\" alt=\"Open In Colab\"/></a>"
      ]
    },
    {
      "cell_type": "code",
      "execution_count": 106,
      "metadata": {
        "id": "dV24rDZINrns"
      },
      "outputs": [],
      "source": [
        "import numpy as np\n",
        "import pandas as pd\n",
        "import matplotlib.pyplot as plt\n",
        "import seaborn as sns\n",
        "import warnings\n",
        "warnings.filterwarnings('ignore')"
      ]
    },
    {
      "cell_type": "markdown",
      "source": [
        "\"\"\"A class representing an album.\n",
        "\n",
        "    Attributes:\n",
        "        album_name (str): The name of the album.\n",
        "        album_artist (str): The artist or band of the album.\n",
        "        number_of_songs (int): The number of songs in the album.\n",
        "    \"\"\"\n",
        "    "
      ],
      "metadata": {
        "id": "d51d-uzpUEWk"
      }
    },
    {
      "cell_type": "code",
      "source": [
        "print(\"album_name\")\n",
        "print(\"album_artist\")\n",
        "print(\"number_of_songs\")"
      ],
      "metadata": {
        "colab": {
          "base_uri": "https://localhost:8080/"
        },
        "id": "NyT2biUxUQiH",
        "outputId": "35079347-bb69-46f5-f90d-b0a0630cc378"
      },
      "execution_count": 107,
      "outputs": [
        {
          "output_type": "stream",
          "name": "stdout",
          "text": [
            "album_name\n",
            "album_artist\n",
            "number_of_songs\n"
          ]
        }
      ]
    },
    {
      "cell_type": "code",
      "source": [
        "def __init__(self, album_name, album_artist, number_of_songs):\n",
        "    \"\"\"Initialise and Album object\n",
        "\n",
        "    Args:\n",
        "        album_name (str): The name of the album\n",
        "        album_artist (str): The artist or band of the album.\n",
        "        number_of_songs (int): The number of the song in the album\n",
        "    \"\"\"\n",
        "    self.album_name = album_name\n",
        "    self.album_artist = album_artist\n",
        "    self.number_of_songs = number_of_songs"
      ],
      "metadata": {
        "id": "d_JDUXbSVIxu"
      },
      "execution_count": 108,
      "outputs": []
    },
    {
      "cell_type": "code",
      "source": [
        "def __str__(self):\n",
        "    \"\"\"Return a string representation of the Album object.\n",
        "\n",
        "    Returns:\n",
        "        str: A string representation of the Album object.\n",
        "    \"\"\"\n",
        "    return (f\"{self.album_name} , {self.album_artist} ,({self.number_of_songs} songs)\" )"
      ],
      "metadata": {
        "id": "P8onjDzXXTZE"
      },
      "execution_count": 109,
      "outputs": []
    },
    {
      "cell_type": "code",
      "source": [
        "def display_album(albums) :\n",
        "  \"\"\"Display the contents of a list of albums.\n",
        "\n",
        "  Args:\n",
        "    albums: A list of Album objects.\n",
        "  \"\"\"\n",
        "  for album in albums:\n",
        "    print(album)"
      ],
      "metadata": {
        "id": "ft5vIS73ZOqe"
      },
      "execution_count": 110,
      "outputs": []
    },
    {
      "cell_type": "code",
      "source": [
        "def sort_number_of_songs(albums):\n",
        "    \"\"\"Sort a list of albums by number of songs in ascending order\n",
        "    and display it.\n",
        "\n",
        "    Args:\n",
        "        albums (list): The list of Album objects to sort by number of songs.\n",
        "    \"\"\"\n",
        "    albums.sort(key=lambda album: album.number_of_songs)\n",
        "    print(\"\\nalbums sorted by number of songs:\")\n",
        "    display_album(albums)"
      ],
      "metadata": {
        "id": "-NseDwYxZp-z"
      },
      "execution_count": 111,
      "outputs": []
    },
    {
      "cell_type": "code",
      "source": [
        "print(f\"\\nalbums after swapping positions {\"position1\"} and {\"position2\"}:\")\n",
        "display_album(\"albums\")"
      ],
      "metadata": {
        "colab": {
          "base_uri": "https://localhost:8080/"
        },
        "id": "IlQY05doaE36",
        "outputId": "7a8d3fc5-5294-49c3-a468-356d5bf61a3e"
      },
      "execution_count": 112,
      "outputs": [
        {
          "output_type": "stream",
          "name": "stdout",
          "text": [
            "\n",
            "albums after swapping positions position1 and position2:\n",
            "a\n",
            "l\n",
            "b\n",
            "u\n",
            "m\n",
            "s\n"
          ]
        }
      ]
    },
    {
      "cell_type": "code",
      "metadata": {
        "id": "4768fe64"
      },
      "source": [
        "class Album:\n",
        "    \"\"\"A class representing an album.\n",
        "\n",
        "    Attributes:\n",
        "        album_name (str): The name of the album.\n",
        "        album_artist (str): The artist or band of the album.\n",
        "        number_of_songs (int): The number of songs in the album.\n",
        "    \"\"\"\n",
        "    def __init__(self, album_name, album_artist, number_of_songs):\n",
        "        \"\"\"Initialise and Album object\n",
        "\n",
        "        Args:\n",
        "            album_name (str): The name of the album\n",
        "            album_artist (str): The artist or band of the album.\n",
        "            number_of_songs (int): The number of the song in the album\n",
        "        \"\"\"\n",
        "        self.album_name = album_name\n",
        "        self.album_artist = album_artist\n",
        "        self.number_of_songs = number_of_songs\n",
        "\n",
        "    def __str__(self):\n",
        "        \"\"\"Return a string representation of the Album object.\n",
        "\n",
        "        Returns:\n",
        "            str: A string representation of the Album object.\n",
        "        \"\"\"\n",
        "        return (f\"{self.album_name} , {self.album_artist} ,({self.number_of_songs} songs)\" )\n",
        "\n",
        "    def display_album(albums) :\n",
        "      \"\"\"Display the contents of a list of albums.\n",
        "\n",
        "      Args:\n",
        "        albums: A list of Album objects.\n",
        "      \"\"\"\n",
        "      for album in albums:\n",
        "        print(album)\n",
        "\n",
        "    def sort_number_of_songs(albums):\n",
        "        \"\"\"Sort a list of albums by number of songs in ascending order\n",
        "        and display it.\n",
        "\n",
        "        Args:\n",
        "            albums (list): The list of Album objects to sort by number of songs.\n",
        "        \"\"\"\n",
        "        albums.sort(key=lambda album: album.number_of_songs)\n",
        "        print(\"\\nAlbums sorted by number of songs:\")\n",
        "        Album.display_album(albums)\n",
        "\n",
        "    def swap_positions(albums, position1, position2):\n",
        "        \"\"\"Swap two albums in a list based on their positions\n",
        "        and display the result.\n",
        "\n",
        "        Args:\n",
        "            albums (list): The list of Album objects.\n",
        "            position1 (int): The position of the first album to swap.\n",
        "            position2 (int): The position of the second album to swap.\n",
        "        \"\"\"\n",
        "        albums[position1 - 1], albums[position2 - 1] = (\n",
        "            albums[position2 - 1],\n",
        "            albums[position1 - 1],\n",
        "        )\n",
        "        print(f\"\\nAlbums after swapping positions {position1} and {position2}:\")\n",
        "        Album.display_album(albums)\n",
        "\n",
        "\n",
        "    def find_index(albums, album_name):\n",
        "        \"\"\"Find and display the index of a specific album in a list.\n",
        "\n",
        "        Args:\n",
        "            albums (list): The list of Album objects to search.\n",
        "            album_name (str): The name of the album to find.\n",
        "        \"\"\"\n",
        "        for index, album in enumerate(albums):\n",
        "            if album.album_name == album_name:\n",
        "                print(f\"\\nIndex of '{album_name}' in the list: {index}\")"
      ],
      "execution_count": 113,
      "outputs": []
    },
    {
      "cell_type": "code",
      "source": [
        "def swap_positions(albums, position1, position2):\n",
        "    \"\"\"Swap two albums in a list based on their positions\n",
        "    and display the result.\n",
        "\n",
        "    Args:\n",
        "        albums (list): The list of Album objects.\n",
        "        position1 (int): The position of the first album to swap.\n",
        "        position2 (int): The position of the second album to swap.\n",
        "    \"\"\"\n",
        "    albums[position1 - 1], albums[position2 - 1] = (\n",
        "        albums[position2 - 1],\n",
        "        albums[position1 - 1],\n",
        "    )\n",
        "    print(f\"\\nAlbums after swapping positions {position1} and {position2}:\")\n",
        "    display_album(albums)"
      ],
      "metadata": {
        "id": "-trTNhzRZ3N-"
      },
      "execution_count": 114,
      "outputs": []
    },
    {
      "cell_type": "code",
      "source": [
        "def find_index(albums, album_name):\n",
        "    \"\"\"Find and display the index of a specific album in a list.\n",
        "\n",
        "    Args:\n",
        "        albums (list): The list of Album objects to search.\n",
        "        album_name (str): The name of the album to find.\n",
        "    \"\"\"\n",
        "    for index, album in enumerate(albums):\n",
        "        if album.album_name == album_name:\n",
        "            print(f\"\\nIndex of '{album_name}' in the list: {index}\")"
      ],
      "metadata": {
        "id": "KnAlpGFQq7L-"
      },
      "execution_count": 115,
      "outputs": []
    },
    {
      "cell_type": "code",
      "source": [
        "\n",
        "albums1 = [\n",
        "    Album(\"Album1\", \"Artist1\", 12),\n",
        "    Album(\"Album2\", \"Artist2\", 18),\n",
        "    Album(\"Album3\", \"Artist3\", 16),\n",
        "    Album(\"Album4\", \"Artist4\", 10),\n",
        "    Album(\"Album5\", \"Artist5\", 20),\n",
        "]\n",
        "\n",
        "albums2 = [\n",
        "    Album(\"Album6\", \"Artist6\", 14),\n",
        "    Album(\"Album7\", \"Artist7\", 15),\n",
        "    Album(\"Album8\", \"Artist8\", 17),\n",
        "    Album(\"Album9\", \"Artist9\", 11),\n",
        "    Album(\"Album10\", \"Artist10\", 13),\n",
        "]\n"
      ],
      "metadata": {
        "id": "zLqdE1KpreXM"
      },
      "execution_count": 116,
      "outputs": []
    },
    {
      "cell_type": "code",
      "source": [
        "print(\"album 1:\")\n",
        "Album.display_album(albums1)\n",
        "\n",
        "Album.sort_number_of_songs(albums1)\n",
        "\n",
        "Album.swap_positions(albums1, 1, 2)\n",
        "\n",
        "print(\"\\nalbum 2:\")\n",
        "Album.display_album(albums2)\n",
        "\n",
        "albums2.extend(albums1)\n",
        "print(\"\\nalbum 2 after copying Album 1 into it:\")\n",
        "Album.display_album(albums2)\n",
        "\n",
        "albums2.extend(\n",
        "    [\n",
        "        Album(\"Dark Side of the Moon\", \"Pink Floyd\", 9),\n",
        "        Album(\"Oops!... I Did It Again\", \"Britney Spears\", 16),\n",
        "    ]\n",
        ")"
      ],
      "metadata": {
        "colab": {
          "base_uri": "https://localhost:8080/"
        },
        "id": "uOaPu_1js4wr",
        "outputId": "b9dcc73f-24cb-423b-de2a-af329ab63b22"
      },
      "execution_count": 117,
      "outputs": [
        {
          "output_type": "stream",
          "name": "stdout",
          "text": [
            "album 1:\n",
            "Album1 , Artist1 ,(12 songs)\n",
            "Album2 , Artist2 ,(18 songs)\n",
            "Album3 , Artist3 ,(16 songs)\n",
            "Album4 , Artist4 ,(10 songs)\n",
            "Album5 , Artist5 ,(20 songs)\n",
            "\n",
            "Albums sorted by number of songs:\n",
            "Album4 , Artist4 ,(10 songs)\n",
            "Album1 , Artist1 ,(12 songs)\n",
            "Album3 , Artist3 ,(16 songs)\n",
            "Album2 , Artist2 ,(18 songs)\n",
            "Album5 , Artist5 ,(20 songs)\n",
            "\n",
            "Albums after swapping positions 1 and 2:\n",
            "Album1 , Artist1 ,(12 songs)\n",
            "Album4 , Artist4 ,(10 songs)\n",
            "Album3 , Artist3 ,(16 songs)\n",
            "Album2 , Artist2 ,(18 songs)\n",
            "Album5 , Artist5 ,(20 songs)\n",
            "\n",
            "album 2:\n",
            "Album6 , Artist6 ,(14 songs)\n",
            "Album7 , Artist7 ,(15 songs)\n",
            "Album8 , Artist8 ,(17 songs)\n",
            "Album9 , Artist9 ,(11 songs)\n",
            "Album10 , Artist10 ,(13 songs)\n",
            "\n",
            "album 2 after copying Album 1 into it:\n",
            "Album6 , Artist6 ,(14 songs)\n",
            "Album7 , Artist7 ,(15 songs)\n",
            "Album8 , Artist8 ,(17 songs)\n",
            "Album9 , Artist9 ,(11 songs)\n",
            "Album10 , Artist10 ,(13 songs)\n",
            "Album1 , Artist1 ,(12 songs)\n",
            "Album4 , Artist4 ,(10 songs)\n",
            "Album3 , Artist3 ,(16 songs)\n",
            "Album2 , Artist2 ,(18 songs)\n",
            "Album5 , Artist5 ,(20 songs)\n"
          ]
        }
      ]
    },
    {
      "cell_type": "code",
      "source": [
        "albums2.sort(key=lambda album: album.album_name)\n",
        "print(\"\\nAlbum 2 sorted alphabetically:\")\n",
        "Album.display_album(albums2)"
      ],
      "metadata": {
        "colab": {
          "base_uri": "https://localhost:8080/"
        },
        "id": "RZAYC3ITt2RC",
        "outputId": "81bc9b7a-8a1e-4427-9a97-6a6bfa7d8cf6"
      },
      "execution_count": 118,
      "outputs": [
        {
          "output_type": "stream",
          "name": "stdout",
          "text": [
            "\n",
            "Album 2 sorted alphabetically:\n",
            "Album1 , Artist1 ,(12 songs)\n",
            "Album10 , Artist10 ,(13 songs)\n",
            "Album2 , Artist2 ,(18 songs)\n",
            "Album3 , Artist3 ,(16 songs)\n",
            "Album4 , Artist4 ,(10 songs)\n",
            "Album5 , Artist5 ,(20 songs)\n",
            "Album6 , Artist6 ,(14 songs)\n",
            "Album7 , Artist7 ,(15 songs)\n",
            "Album8 , Artist8 ,(17 songs)\n",
            "Album9 , Artist9 ,(11 songs)\n",
            "Dark Side of the Moon , Pink Floyd ,(9 songs)\n",
            "Oops!... I Did It Again , Britney Spears ,(16 songs)\n"
          ]
        }
      ]
    },
    {
      "cell_type": "code",
      "source": [
        "find_index(albums2, \"Dark Side of the Moon\")"
      ],
      "metadata": {
        "colab": {
          "base_uri": "https://localhost:8080/"
        },
        "id": "Ig4c9ln7uBV9",
        "outputId": "34a18bec-6e1a-4b83-b211-034b516fae84"
      },
      "execution_count": 119,
      "outputs": [
        {
          "output_type": "stream",
          "name": "stdout",
          "text": [
            "\n",
            "Index of 'Dark Side of the Moon' in the list: 10\n"
          ]
        }
      ]
    }
  ]
}